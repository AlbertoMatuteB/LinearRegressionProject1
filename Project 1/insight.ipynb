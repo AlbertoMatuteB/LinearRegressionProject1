{
 "cells": [
  {
   "attachments": {},
   "cell_type": "markdown",
   "metadata": {},
   "source": [
    "# Prediction of apartment rent in cities in India with linear regression"
   ]
  },
  {
   "attachments": {},
   "cell_type": "markdown",
   "metadata": {},
   "source": [
    "Importing the libraries"
   ]
  },
  {
   "cell_type": "code",
   "execution_count": 14,
   "metadata": {},
   "outputs": [],
   "source": [
    "import pandas as pd\n",
    "import matplotlib.pyplot as plt\n",
    "import seaborn as sns\n",
    "from sklearn import linear_model\n",
    "from sklearn.metrics import mean_absolute_error, r2_score\n",
    "from sklearn.preprocessing import OneHotEncoder, StandardScaler\n",
    "from sklearn.compose import ColumnTransformer\n",
    "from sklearn.model_selection import train_test_split"
   ]
  },
  {
   "attachments": {},
   "cell_type": "markdown",
   "metadata": {},
   "source": [
    "# Loading the dataset"
   ]
  },
  {
   "cell_type": "code",
   "execution_count": 15,
   "metadata": {},
   "outputs": [
    {
     "name": "stdout",
     "output_type": "stream",
     "text": [
      "    Posted On  BHK   Rent  Size            Floor    Area Type  \\\n",
      "0  2022-05-18    2  10000  1100  Ground out of 2   Super Area   \n",
      "1  2022-05-13    2  20000   800       1 out of 3   Super Area   \n",
      "2  2022-05-16    2  17000  1000       1 out of 3   Super Area   \n",
      "3  2022-07-04    2  10000   800       1 out of 2   Super Area   \n",
      "4  2022-05-09    2   7500   850       1 out of 2  Carpet Area   \n",
      "\n",
      "              Area Locality     City Furnishing Status  Tenant Preferred  \\\n",
      "0                    Bandel  Kolkata       Unfurnished  Bachelors/Family   \n",
      "1  Phool Bagan, Kankurgachi  Kolkata    Semi-Furnished  Bachelors/Family   \n",
      "2   Salt Lake City Sector 2  Kolkata    Semi-Furnished  Bachelors/Family   \n",
      "3               Dumdum Park  Kolkata       Unfurnished  Bachelors/Family   \n",
      "4             South Dum Dum  Kolkata       Unfurnished         Bachelors   \n",
      "\n",
      "   Bathroom Point of Contact  \n",
      "0         2    Contact Owner  \n",
      "1         1    Contact Owner  \n",
      "2         1    Contact Owner  \n",
      "3         1    Contact Owner  \n",
      "4         1    Contact Owner  \n"
     ]
    }
   ],
   "source": [
    "rent_data = pd.read_csv('House_Rent_Dataset.csv')\n",
    "\n",
    "# print the first 5 rows of the dataset\n",
    "print(rent_data.head())"
   ]
  },
  {
   "attachments": {},
   "cell_type": "markdown",
   "metadata": {},
   "source": [
    "# Analyzing the dataset"
   ]
  },
  {
   "attachments": {},
   "cell_type": "markdown",
   "metadata": {},
   "source": [
    "Printing the value counts of the column 'rent'"
   ]
  },
  {
   "cell_type": "code",
   "execution_count": 16,
   "metadata": {},
   "outputs": [
    {
     "name": "stdout",
     "output_type": "stream",
     "text": [
      "15000    275\n",
      "10000    248\n",
      "12000    238\n",
      "20000    175\n",
      "8000     162\n",
      "        ... \n",
      "4600       1\n",
      "79500      1\n",
      "76000      1\n",
      "45002      1\n",
      "5800       1\n",
      "Name: Rent, Length: 243, dtype: int64\n"
     ]
    }
   ],
   "source": [
    "# print the count of rent values\n",
    "print(rent_data['Rent'].value_counts())"
   ]
  },
  {
   "attachments": {},
   "cell_type": "markdown",
   "metadata": {},
   "source": [
    "We can see that some of the value counts are very low. We will remove them to get a better analysis."
   ]
  },
  {
   "cell_type": "code",
   "execution_count": 17,
   "metadata": {},
   "outputs": [],
   "source": [
    "# delete the rows with rent values that count less than 10\n",
    "rent_data = rent_data[rent_data['Rent'].map(rent_data['Rent'].value_counts()) > 10]"
   ]
  },
  {
   "attachments": {},
   "cell_type": "markdown",
   "metadata": {},
   "source": [
    "Printing the value counts of the column 'size'"
   ]
  },
  {
   "cell_type": "code",
   "execution_count": 18,
   "metadata": {},
   "outputs": [
    {
     "name": "stdout",
     "output_type": "stream",
     "text": [
      "1000    230\n",
      "600     215\n",
      "800     205\n",
      "1200    187\n",
      "500     176\n",
      "       ... \n",
      "656       1\n",
      "1660      1\n",
      "413       1\n",
      "1875      1\n",
      "855       1\n",
      "Name: Size, Length: 569, dtype: int64\n"
     ]
    }
   ],
   "source": [
    "# print the count of size values\n",
    "print(rent_data['Size'].value_counts())"
   ]
  },
  {
   "attachments": {},
   "cell_type": "markdown",
   "metadata": {},
   "source": [
    "We can see that some of the values in the column 'size' have a count less than 10. We will delete those rows to avoid bias."
   ]
  },
  {
   "cell_type": "code",
   "execution_count": 19,
   "metadata": {},
   "outputs": [],
   "source": [
    "# delete the rows with size values that count less than 10\n",
    "rent_data = rent_data[rent_data['Size'].map(rent_data['Size'].value_counts()) > 10]\n"
   ]
  },
  {
   "attachments": {},
   "cell_type": "markdown",
   "metadata": {},
   "source": [
    "Printing the value counts of the column 'BHK'"
   ]
  },
  {
   "cell_type": "code",
   "execution_count": 20,
   "metadata": {},
   "outputs": [
    {
     "name": "stdout",
     "output_type": "stream",
     "text": [
      "2    1655\n",
      "1     814\n",
      "3     667\n",
      "4      52\n",
      "6       3\n",
      "5       1\n",
      "Name: BHK, dtype: int64\n"
     ]
    }
   ],
   "source": [
    "# print the count of BHK values\n",
    "print(rent_data['BHK'].value_counts())"
   ]
  },
  {
   "attachments": {},
   "cell_type": "markdown",
   "metadata": {},
   "source": [
    "We can see that houses with a BHK value of 5 and 6 have much less values than the rest. We will delete those rows to avoid bias."
   ]
  },
  {
   "cell_type": "code",
   "execution_count": 21,
   "metadata": {},
   "outputs": [],
   "source": [
    "# delete the rows with BHK values that count less than 10\n",
    "rent_data = rent_data[rent_data['BHK'].map(rent_data['BHK'].value_counts()) > 10]"
   ]
  },
  {
   "attachments": {},
   "cell_type": "markdown",
   "metadata": {},
   "source": [
    "Printing the value counts of the column 'city'"
   ]
  },
  {
   "cell_type": "code",
   "execution_count": 22,
   "metadata": {},
   "outputs": [
    {
     "name": "stdout",
     "output_type": "stream",
     "text": [
      "Bangalore    679\n",
      "Hyderabad    624\n",
      "Chennai      607\n",
      "Mumbai       439\n",
      "Kolkata      420\n",
      "Delhi        419\n",
      "Name: City, dtype: int64\n"
     ]
    }
   ],
   "source": [
    "# print the count of city values\n",
    "print(rent_data['City'].value_counts())"
   ]
  },
  {
   "attachments": {},
   "cell_type": "markdown",
   "metadata": {},
   "source": [
    "We can see that the distributios is even. We will not delete any rows."
   ]
  },
  {
   "attachments": {},
   "cell_type": "markdown",
   "metadata": {},
   "source": [
    "Dropping the columns that are not required for the model"
   ]
  },
  {
   "cell_type": "code",
   "execution_count": 23,
   "metadata": {},
   "outputs": [],
   "source": [
    "# drop all columns except 'Size', 'BHK', 'City', 'Rent'\n",
    "rent_data = rent_data.drop(['Posted On', 'Floor', 'Area Type', 'Area Locality', 'Furnishing Status', 'Tenant Preferred', 'Bathroom', 'Point of Contact'], axis=1)\n"
   ]
  },
  {
   "cell_type": "code",
   "execution_count": 24,
   "metadata": {},
   "outputs": [
    {
     "name": "stdout",
     "output_type": "stream",
     "text": [
      "   BHK   Rent  Size     City\n",
      "0    2  10000  1100  Kolkata\n",
      "1    2  20000   800  Kolkata\n",
      "2    2  17000  1000  Kolkata\n",
      "3    2  10000   800  Kolkata\n",
      "4    2   7500   850  Kolkata\n"
     ]
    }
   ],
   "source": [
    "# print the first 5 rows of the dataset\n",
    "print(rent_data.head())"
   ]
  },
  {
   "attachments": {},
   "cell_type": "markdown",
   "metadata": {},
   "source": [
    "# Preprocessing the dataset for the model"
   ]
  },
  {
   "cell_type": "code",
   "execution_count": 25,
   "metadata": {},
   "outputs": [],
   "source": [
    "# prepare features for moddel fitting\n",
    "predictors = ['Size', 'BHK', 'City']\n",
    "\n",
    "data = rent_data[predictors]\n",
    "\n",
    "target_name = 'Rent'\n",
    "target = rent_data[target_name]\n",
    "\n",
    "city_encoder = OneHotEncoder()\n",
    "nominal_preprocessor = OneHotEncoder(handle_unknown='ignore')\n",
    "numerical_preprocessor = StandardScaler()\n",
    "\n",
    "city_attributes = ['City']\n",
    "nominal_attributes = ['BHK']\n",
    "numerical_attributes = ['Size']\n",
    "\n",
    "preprocessor = ColumnTransformer([\n",
    "    ('city', city_encoder, city_attributes),\n",
    "    ('one-hot-enconder', nominal_preprocessor, nominal_attributes),\n",
    "    ('standard-scaler', numerical_preprocessor, numerical_attributes)\n",
    "])\n",
    "\n",
    "data_prepared = preprocessor.fit_transform(data)"
   ]
  },
  {
   "attachments": {},
   "cell_type": "markdown",
   "metadata": {},
   "source": [
    "Sepating the data into train and test sets for the model"
   ]
  },
  {
   "cell_type": "code",
   "execution_count": 26,
   "metadata": {},
   "outputs": [],
   "source": [
    "# separate the data into training and test sets\n",
    "\n",
    "X_train, X_test, y_train, y_test = train_test_split(data_prepared, target, test_size=0.2, random_state=424)"
   ]
  },
  {
   "attachments": {},
   "cell_type": "markdown",
   "metadata": {},
   "source": [
    "# fitting the model"
   ]
  },
  {
   "cell_type": "code",
   "execution_count": null,
   "metadata": {},
   "outputs": [],
   "source": [
    "# fit the model\n",
    "\n",
    "# Create linear regression object\n",
    "reg = linear_model.LinearRegression()\n",
    "\n",
    "# Train the model\n",
    "reg.fit(X_train, y_train)"
   ]
  },
  {
   "attachments": {},
   "cell_type": "markdown",
   "metadata": {},
   "source": [
    "# Analyzing the performance of the model"
   ]
  },
  {
   "cell_type": "code",
   "execution_count": 28,
   "metadata": {},
   "outputs": [
    {
     "name": "stdout",
     "output_type": "stream",
     "text": [
      "the mean absolute error on the training data is: 11100.27\n",
      "the r-squared score is: 0.53\n",
      "and it's coefficients are: [ -8295.55456053 -10140.95573798   -937.61130461 -14505.55497253\n",
      " -12168.33362114  46048.0101968  -15281.47372832 -14185.25227362\n",
      "  -3464.81619652  32931.54219846   9559.27257088]\n"
     ]
    }
   ],
   "source": [
    "# check the performance of the model\n",
    "# Performance on training data\n",
    "predicted_y = reg.predict(X_train)\n",
    "train_mae = mean_absolute_error(y_train, predicted_y)\n",
    "\n",
    "# Performance on test data\n",
    "predicted_y = reg.predict(X_test)\n",
    "test_mae = mean_absolute_error(y_test, predicted_y)\n",
    "\n",
    "print(\"the mean absolute error on the training data is: %.2f\" % train_mae)\n",
    "print(\"the r-squared score is: %.2f\" % r2_score(y_test, predicted_y))\n",
    "print(f\"and it's coefficients are: {reg.coef_}\")"
   ]
  },
  {
   "attachments": {},
   "cell_type": "markdown",
   "metadata": {},
   "source": [
    "looking at the predicted values against the actual values of the test set"
   ]
  },
  {
   "cell_type": "code",
   "execution_count": 29,
   "metadata": {},
   "outputs": [
    {
     "data": {
      "image/png": "[encoded data removed]",
      "text/plain": [
       "<Figure size 640x480 with 1 Axes>"
      ]
     },
     "metadata": {},
     "output_type": "display_data"
    }
   ],
   "source": [
    "# plot the results of the model with limmit of 100000\n",
    "plt.scatter(y_test, predicted_y, alpha=0.5)\n",
    "plt.xlabel('Actual Rent')\n",
    "plt.ylabel('Predicted Rent')\n",
    "plt.xlim(0, 100000)\n",
    "plt.ylim(0, 100000)\n",
    "plt.show()"
   ]
  },
  {
   "attachments": {},
   "cell_type": "markdown",
   "metadata": {},
   "source": [
    "# Allowing the user to input the values for the model to predict the rent"
   ]
  },
  {
   "cell_type": "code",
   "execution_count": null,
   "metadata": {},
   "outputs": [],
   "source": [
    "# make predictions until the user wants to stop\n",
    "while True:\n",
    "    bhk = input('Enter the number of bedrooms/hallways/kitchens (more than 1): ')\n",
    "    size = input('Enter the size of the house/apartment/flat in square feet (more than 200 feet): ')\n",
    "    city = input('Enter the city name: \\n 1. Bangalore \\n 2. Chennai \\n 3. Delhi \\n 4. Hyderabad \\n 5. Kolkata \\n 6. Mumbai \\n')\n",
    "\n",
    "    input_data = pd.DataFrame([(size, bhk, city)], columns= predictors)\n",
    "    input_data_prepared = preprocessor.transform(input_data)\n",
    "\n",
    "    predicted_rent = reg.predict(input_data_prepared)\n",
    "\n",
    "    print(\"the predicted rent is: %.2f\" % predicted_rent)\n",
    "\n",
    "    # ask the user if they want to make another prediction\n",
    "    another_prediction = input('Do you want to make another prediction? (y/n): ')\n",
    "    if another_prediction == 'n':\n",
    "        break"
   ]
  }
 ],
 "metadata": {
  "kernelspec": {
   "display_name": "Python 3",
   "language": "python",
   "name": "python3"
  },
  "language_info": {
   "codemirror_mode": {
    "name": "ipython",
    "version": 3
   },
   "file_extension": ".py",
   "mimetype": "text/x-python",
   "name": "python",
   "nbconvert_exporter": "python",
   "pygments_lexer": "ipython3",
   "version": "3.10.6"
  },
  "orig_nbformat": 4
 },
 "nbformat": 4,
 "nbformat_minor": 2
}
